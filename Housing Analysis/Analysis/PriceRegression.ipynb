{
 "cells": [
  {
   "cell_type": "code",
   "execution_count": 3,
   "id": "a4fdecbd-fc30-4c13-90b7-2e5fccb9c3b7",
   "metadata": {},
   "outputs": [],
   "source": [
    "import sys\n",
    "sys.path.append(\"..\")\n",
    "\n",
    "import geopandas as gpd\n",
    "\n",
    "from ETL.common import execute_query"
   ]
  },
  {
   "cell_type": "code",
   "execution_count": 2,
   "id": "9daf9852-480b-4ccd-813d-a20fb48e15f3",
   "metadata": {},
   "outputs": [
    {
     "data": {
      "text/html": [
       "<div>\n",
       "<style scoped>\n",
       "    .dataframe tbody tr th:only-of-type {\n",
       "        vertical-align: middle;\n",
       "    }\n",
       "\n",
       "    .dataframe tbody tr th {\n",
       "        vertical-align: top;\n",
       "    }\n",
       "\n",
       "    .dataframe thead th {\n",
       "        text-align: right;\n",
       "    }\n",
       "</style>\n",
       "<table border=\"1\" class=\"dataframe\">\n",
       "  <thead>\n",
       "    <tr style=\"text-align: right;\">\n",
       "      <th></th>\n",
       "      <th>fid</th>\n",
       "      <th>Rang</th>\n",
       "      <th>geometry</th>\n",
       "    </tr>\n",
       "  </thead>\n",
       "  <tbody>\n",
       "    <tr>\n",
       "      <th>0</th>\n",
       "      <td>1</td>\n",
       "      <td>40 - 45 dB(A)</td>\n",
       "      <td>MULTIPOLYGON (((424795.052 4576392.601, 424794...</td>\n",
       "    </tr>\n",
       "    <tr>\n",
       "      <th>1</th>\n",
       "      <td>1</td>\n",
       "      <td>40 - 45 dB(A)</td>\n",
       "      <td>MULTIPOLYGON (((424910.719 4576528.069, 424910...</td>\n",
       "    </tr>\n",
       "    <tr>\n",
       "      <th>2</th>\n",
       "      <td>1</td>\n",
       "      <td>40 - 45 dB(A)</td>\n",
       "      <td>MULTIPOLYGON (((424785.062 4582248.117, 424786...</td>\n",
       "    </tr>\n",
       "    <tr>\n",
       "      <th>3</th>\n",
       "      <td>1</td>\n",
       "      <td>40 - 45 dB(A)</td>\n",
       "      <td>MULTIPOLYGON (((425173.809 4583157.486, 425174...</td>\n",
       "    </tr>\n",
       "    <tr>\n",
       "      <th>4</th>\n",
       "      <td>1</td>\n",
       "      <td>40 - 45 dB(A)</td>\n",
       "      <td>MULTIPOLYGON (((425227.94 4583282.291, 425226 ...</td>\n",
       "    </tr>\n",
       "    <tr>\n",
       "      <th>...</th>\n",
       "      <td>...</td>\n",
       "      <td>...</td>\n",
       "      <td>...</td>\n",
       "    </tr>\n",
       "    <tr>\n",
       "      <th>111539</th>\n",
       "      <td>82401</td>\n",
       "      <td>&gt;= 80 dB(A)</td>\n",
       "      <td>MULTIPOLYGON (((425308 4576282.987, 425306 457...</td>\n",
       "    </tr>\n",
       "    <tr>\n",
       "      <th>111540</th>\n",
       "      <td>82402</td>\n",
       "      <td>&gt;= 80 dB(A)</td>\n",
       "      <td>MULTIPOLYGON (((425384 4576088.658, 425382 457...</td>\n",
       "    </tr>\n",
       "    <tr>\n",
       "      <th>111541</th>\n",
       "      <td>82403</td>\n",
       "      <td>&gt;= 80 dB(A)</td>\n",
       "      <td>MULTIPOLYGON (((427594.122 4575932.455, 427594...</td>\n",
       "    </tr>\n",
       "    <tr>\n",
       "      <th>111542</th>\n",
       "      <td>82404</td>\n",
       "      <td>&gt;= 80 dB(A)</td>\n",
       "      <td>MULTIPOLYGON (((426838 4575310.481, 426836.253...</td>\n",
       "    </tr>\n",
       "    <tr>\n",
       "      <th>111543</th>\n",
       "      <td>82405</td>\n",
       "      <td>&gt;= 80 dB(A)</td>\n",
       "      <td>MULTIPOLYGON (((426652.34 4575286.397, 426652 ...</td>\n",
       "    </tr>\n",
       "  </tbody>\n",
       "</table>\n",
       "<p>111544 rows × 3 columns</p>\n",
       "</div>"
      ],
      "text/plain": [
       "          fid           Rang  \\\n",
       "0           1  40 - 45 dB(A)   \n",
       "1           1  40 - 45 dB(A)   \n",
       "2           1  40 - 45 dB(A)   \n",
       "3           1  40 - 45 dB(A)   \n",
       "4           1  40 - 45 dB(A)   \n",
       "...       ...            ...   \n",
       "111539  82401    >= 80 dB(A)   \n",
       "111540  82402    >= 80 dB(A)   \n",
       "111541  82403    >= 80 dB(A)   \n",
       "111542  82404    >= 80 dB(A)   \n",
       "111543  82405    >= 80 dB(A)   \n",
       "\n",
       "                                                 geometry  \n",
       "0       MULTIPOLYGON (((424795.052 4576392.601, 424794...  \n",
       "1       MULTIPOLYGON (((424910.719 4576528.069, 424910...  \n",
       "2       MULTIPOLYGON (((424785.062 4582248.117, 424786...  \n",
       "3       MULTIPOLYGON (((425173.809 4583157.486, 425174...  \n",
       "4       MULTIPOLYGON (((425227.94 4583282.291, 425226 ...  \n",
       "...                                                   ...  \n",
       "111539  MULTIPOLYGON (((425308 4576282.987, 425306 457...  \n",
       "111540  MULTIPOLYGON (((425384 4576088.658, 425382 457...  \n",
       "111541  MULTIPOLYGON (((427594.122 4575932.455, 427594...  \n",
       "111542  MULTIPOLYGON (((426838 4575310.481, 426836.253...  \n",
       "111543  MULTIPOLYGON (((426652.34 4575286.397, 426652 ...  \n",
       "\n",
       "[111544 rows x 3 columns]"
      ]
     },
     "execution_count": 2,
     "metadata": {},
     "output_type": "execute_result"
    }
   ],
   "source": [
    "q = \"SELECT * FROM houses_clean ORDER BY timestamp DESC\"\n",
    "df_raw = execute_query(q)"
   ]
  },
  {
   "cell_type": "code",
   "execution_count": 4,
   "id": "0f815f10-90e4-4936-88b1-da85d4306690",
   "metadata": {},
   "outputs": [],
   "source": [
    "df = df_raw.copy()"
   ]
  },
  {
   "cell_type": "code",
   "execution_count": null,
   "id": "22a638fa-718b-4570-bdf5-8b859c5bec01",
   "metadata": {},
   "outputs": [],
   "source": [
    "loudness_df = gpd.read_file(\"2017_isofones_total_lden_mapa_estrategic_soroll_bcn.gpkg\",\n",
    "                     layer=\"2017_Isofones_Total_Lden_Mapa_Estrategic_Soroll_BCN\")\n",
    "loudness_df = loudness_df.to_crs(epsg=4326)"
   ]
  },
  {
   "cell_type": "code",
   "execution_count": null,
   "id": "d8809e16-3124-4408-9fda-714b087086ef",
   "metadata": {},
   "outputs": [],
   "source": [
    "df = gpd.GeoDataFrame(df, geometry=gpd.points_from_xy(df.longitude, df.latitude), crs=\"EPSG:4326\")\n",
    "df = df.sjoin(loudness_df, how=\"left\")\n",
    "df = df[df.columns.difference([\"fid\", \"index_right\"])]\n",
    "df = df.rename(columns={\"Rang\": \"loudness\"})"
   ]
  },
  {
   "cell_type": "code",
   "execution_count": null,
   "id": "6ae6d385-69f3-45c5-a9e5-93954e1e45e9",
   "metadata": {},
   "outputs": [],
   "source": [
    "cat_cols = [\"active\", \"city\", \"type\", \"orientation\", \"age\", \"parking\", \"floor\", \n",
    "            \"elevator\", \"furniture\", \"state\", \"heating\", \"water_heating\", \n",
    "            \"formatted_address\", \"pets\", \"loudness\"]\n",
    "num_cols = [\"price\", \"rooms\", \"bathrooms\", \"surface\", \"latitude\", \"longitude\"]\n",
    "\n",
    "plot_cols = cat_cols + num_cols\n",
    "\n",
    "for c in cat_cols:\n",
    "    df[c] = df[c].fillna(\"Null\")\n",
    "    if c == \"age\":\n",
    "        df[c] = pd.Categorical(df[c], [\"Null\", \"Menos de 1 año\", \"1 a 5 años\", \"5 a 10 años\", \"10 a 20 años\", \n",
    "                                       \"20 a 30 años\", \"30 a 50 años\", \"70 a 100 años\", \"+ 100 años\"])\n",
    "    elif c == \"floor\":\n",
    "        df[c] = pd.Categorical(df[c], [\"Null\", \"Sótano\", \"Otro\", \"Bajos\", \"Entresuelo\", \"1ª planta\", \"2ª planta\",\n",
    "                                       \"3ª planta\", \"4ª planta\", \"5ª planta\", \"6ª planta\", \"7ª planta\", \n",
    "                                       \"8ª planta\", \"9ª planta\", \"10ª planta\",  \"11ª planta\", \"12ª planta\",\n",
    "                                       \"13ª planta\", \"14ª planta\", \"A partir de la 15ª planta\"])\n",
    "    elif c == \"orientation\":\n",
    "        df[c] = pd.Categorical(df[c], [\"Null\", \"Este\", \"Noreste\", \"Norte\", \"Noroeste\", \"Oeste\", \"Suroeste\", \"Sur\", \"Sureste\"])\n",
    "    else:\n",
    "        df[c] = pd.Categorical(df[c])\n",
    "\n",
    "group_cols = [e for e in cat_cols if e not in (\"active\", \"formatted_address\")]"
   ]
  },
  {
   "cell_type": "code",
   "execution_count": null,
   "id": "ffef74c0-2347-4122-8222-a2f49fcbde24",
   "metadata": {},
   "outputs": [],
   "source": [
    "# target: price\n",
    "# \n",
    "# correlations and feature importance (Chi-Square Test (For Ordinal Categorical Variables), Correlation Ratio (η): or Kruskal-Wallis Test for rest, normal corr for numerical)\n",
    "# try imputation (dummy indicator for categorical, MICE, Mean/Median, KNN for numerical)\n",
    "# preprocessing, scaling, encoding, model, etc, in pipeline\n",
    "# try pipeline with different imputations/moodels"
   ]
  },
  {
   "cell_type": "code",
   "execution_count": null,
   "id": "b2d691d0-71f7-4f65-9338-ce2e2b649dc2",
   "metadata": {},
   "outputs": [],
   "source": []
  },
  {
   "cell_type": "code",
   "execution_count": null,
   "id": "8a839cbe-8387-41ee-b509-0d969866062e",
   "metadata": {},
   "outputs": [],
   "source": []
  },
  {
   "cell_type": "code",
   "execution_count": null,
   "id": "8f1a9a5a-9aab-462f-afe0-af74148ade43",
   "metadata": {},
   "outputs": [],
   "source": []
  },
  {
   "cell_type": "code",
   "execution_count": null,
   "id": "2460a93a-23a2-4ab8-a5e8-b6d8321d7c62",
   "metadata": {},
   "outputs": [],
   "source": []
  },
  {
   "cell_type": "code",
   "execution_count": null,
   "id": "9c0b0af5-2780-4f56-952a-492dfaebc33e",
   "metadata": {},
   "outputs": [],
   "source": []
  },
  {
   "cell_type": "code",
   "execution_count": null,
   "id": "d93f03f2-92da-4079-bcb9-128395ccb66e",
   "metadata": {},
   "outputs": [],
   "source": []
  }
 ],
 "metadata": {
  "kernelspec": {
   "display_name": "Python 3 (ipykernel)",
   "language": "python",
   "name": "python3"
  },
  "language_info": {
   "codemirror_mode": {
    "name": "ipython",
    "version": 3
   },
   "file_extension": ".py",
   "mimetype": "text/x-python",
   "name": "python",
   "nbconvert_exporter": "python",
   "pygments_lexer": "ipython3",
   "version": "3.11.3"
  }
 },
 "nbformat": 4,
 "nbformat_minor": 5
}
