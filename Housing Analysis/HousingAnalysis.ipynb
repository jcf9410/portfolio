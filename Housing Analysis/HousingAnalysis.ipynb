{
 "cells": [
  {
   "cell_type": "code",
   "execution_count": null,
   "id": "d6f06212-e548-4f68-99b2-e16fd6361729",
   "metadata": {},
   "outputs": [],
   "source": [
    "\n",
    "import geopandas as gpd\n",
    "import folium\n",
    "\n",
    "df_geo = pd.DataFrame({\"lat\": [geocode_result[0][\"geometry\"][\"location\"][\"lat\"]],\n",
    "                      \"lng\": geocode_result[0][\"geometry\"][\"location\"][\"lng\"]})\n",
    "\n",
    "geometry = gpd.points_from_xy(df_geo.lng, df_geo.lat)\n",
    "df_geo = gpd.GeoDataFrame(\n",
    "    df_geo[[\"lat\", \"lng\"]], geometry=geometry\n",
    ")\n",
    "\n",
    "df_geo"
   ]
  },
  {
   "cell_type": "code",
   "execution_count": null,
   "id": "f86edf72-dc6f-4bd3-be19-78fa99a968ee",
   "metadata": {},
   "outputs": [],
   "source": [
    "map_city = folium.Map(location=[df_geo[\"lat\"], df_geo[\"lng\"]], tiles=\"OpenStreetMap\", zoom_start=12)\n",
    "map_city.add_child(\n",
    "        folium.Marker(\n",
    "            location=[df_geo[\"lat\"], df_geo[\"lng\"]]))\n",
    "map_city"
   ]
  },
  {
   "cell_type": "code",
   "execution_count": null,
   "id": "88c575d4-2d52-45ed-9865-723e34f3f77d",
   "metadata": {},
   "outputs": [],
   "source": []
  }
 ],
 "metadata": {
  "kernelspec": {
   "display_name": "Python 3 (ipykernel)",
   "language": "python",
   "name": "python3"
  },
  "language_info": {
   "codemirror_mode": {
    "name": "ipython",
    "version": 3
   },
   "file_extension": ".py",
   "mimetype": "text/x-python",
   "name": "python",
   "nbconvert_exporter": "python",
   "pygments_lexer": "ipython3",
   "version": "3.11.3"
  }
 },
 "nbformat": 4,
 "nbformat_minor": 5
}
