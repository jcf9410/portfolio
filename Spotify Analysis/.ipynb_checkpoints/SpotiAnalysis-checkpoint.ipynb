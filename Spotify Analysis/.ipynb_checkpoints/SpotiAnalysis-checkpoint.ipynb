{
 "cells": [
  {
   "cell_type": "code",
   "execution_count": 25,
   "id": "1f575770-f52f-4bda-9181-671a3b6c82a8",
   "metadata": {
    "tags": []
   },
   "outputs": [],
   "source": [
    "import pandas as pd\n",
    "import numpy as np\n",
    "\n",
    "from decimal import Decimal, Context\n",
    "\n",
    "import spotipy\n",
    "from spotipy.oauth2 import SpotifyOAuth\n",
    "\n",
    "import boto3"
   ]
  },
  {
   "cell_type": "code",
   "execution_count": 2,
   "id": "e876a358-2355-40e3-beb1-a973cdde40d1",
   "metadata": {
    "tags": []
   },
   "outputs": [],
   "source": [
    "client_secret = \"b4b4adad93d2427b9c22b3c0b8eead3b\"\n",
    "client_id = \"3e732b6a4f1e43f8940a372fb205a460\"\n",
    "redirect_uri = \"http://localhost:8889/callback\""
   ]
  },
  {
   "cell_type": "code",
   "execution_count": 3,
   "id": "0338d7c7-c538-40fb-be99-aa4dba330cb9",
   "metadata": {
    "tags": []
   },
   "outputs": [],
   "source": [
    "valid_audio_features = [\"danceability\", \"energy\", \"key\", \"loudness\", \"mode\", \"speechiness\", \"acousticness\",\n",
    "                        \"instrumentalness\", \"liveness\", \"valence\", \"tempo\"]\n",
    "user_lib_scope = \"user-library-read\""
   ]
  },
  {
   "cell_type": "code",
   "execution_count": 6,
   "id": "91597c40-eefb-4dd0-ae2e-8f62aa2b5f7d",
   "metadata": {
    "tags": []
   },
   "outputs": [],
   "source": [
    "def get_saved_tracks():\n",
    "    sp = spotipy.Spotify(auth_manager=SpotifyOAuth(scope=user_lib_scope, client_id=client_id, client_secret=client_secret, redirect_uri=redirect_uri))\n",
    "\n",
    "    all_results = []\n",
    "\n",
    "    offset = 0\n",
    "    results = sp.current_user_saved_tracks(limit=50, offset=offset)\n",
    "    while results[\"next\"] is not None:\n",
    "        if offset > 0:\n",
    "            results = sp.current_user_saved_tracks(limit=50, offset=offset)\n",
    "        for idx, item in enumerate(results['items']):\n",
    "            track = item['track']\n",
    "            all_results.append(track)\n",
    "        offset += 50\n",
    "        \n",
    "    return all_results\n",
    "\n",
    "\n",
    "def clean_data(track):\n",
    "    track_id = track[\"id\"]\n",
    "    album = track[\"album\"][\"name\"]\n",
    "    artist = track[\"artists\"][0][\"name\"]\n",
    "    duration = track[\"duration_ms\"] / 1000\n",
    "    explicit = track[\"explicit\"]\n",
    "    name = track[\"name\"]\n",
    "    popularity = track[\"popularity\"]\n",
    "    \n",
    "    track_info = {\n",
    "        \"track_id\": track_id,\n",
    "        \"album\": album,\n",
    "        \"artist\": artist,\n",
    "        \"duration\": duration,\n",
    "        \"explicit\": explicit,\n",
    "        \"track_name\": name,\n",
    "        \"popularity\": popularity\n",
    "    }\n",
    "    \n",
    "    return track_info\n",
    "\n",
    "\n",
    "def get_change_in_feature(element, past_element, feature):\n",
    "    if past_element[f\"{feature}_confidence\"] > 0.5 and element[f\"{feature}_confidence\"] > 0.5: # enough confidence\n",
    "        if np.abs(past_element[feature] - element[feature]) / element[feature] > 0.05: # 5% change\n",
    "            return True\n",
    "    return False\n",
    "\n",
    "\n",
    "def get_audio_features(track):\n",
    "    sp = spotipy.Spotify(auth_manager=SpotifyOAuth(scope=user_lib_scope, client_id=client_id, client_secret=client_secret, redirect_uri=redirect_uri))\n",
    "    \n",
    "    track_id = track[\"track_id\"]\n",
    "    features = sp.audio_features(track_id)\n",
    "    features = {k:v for k, v in features[0].items() if k in valid_audio_features}\n",
    "    \n",
    "    track_info = {**track, **features}\n",
    "    \n",
    "    return track_info\n",
    "\n",
    "\n",
    "def get_advanced_audio_features(track):\n",
    "    sp = spotipy.Spotify(auth_manager=SpotifyOAuth(scope=user_lib_scope, client_id=client_id, client_secret=client_secret, redirect_uri=redirect_uri))\n",
    "    \n",
    "    track_id = track[\"track_id\"]\n",
    "    features = sp.audio_analysis(track_id)\n",
    "    sections = features[\"sections\"]\n",
    "    \n",
    "    track_info = {**track}\n",
    "    track_info[\"raw_sections\"] = sections\n",
    "    \n",
    "    num_sections = len(sections)\n",
    "    sections_avg_duration = np.mean([e[\"duration\"] for e in sections])\n",
    "    \n",
    "    tempo_changes = 0\n",
    "    key_changes = 0\n",
    "    mode_changes = 0\n",
    "    time_signature_changes = 0\n",
    "    dynamics_changes = 0    \n",
    "    \n",
    "    for i in range(1, len(sections)):\n",
    "        if get_change_in_feature(sections[i], sections[i-1], \"tempo\"):\n",
    "            tempo_changes += 1\n",
    "        if get_change_in_feature(sections[i], sections[i-1], \"key\"):\n",
    "            key_changes += 1\n",
    "        if get_change_in_feature(sections[i], sections[i-1], \"mode\"):\n",
    "            mode_changes += 1\n",
    "        if get_change_in_feature(sections[i], sections[i-1], \"time_signature\"):\n",
    "            time_signature_changes += 1\n",
    "        if np.abs(sections[i-1][\"loudness\"] - sections[i][\"loudness\"]) / sections[i][\"loudness\"] > 0.1: # no confidence, wider interval\n",
    "            dynamics_changes += 1\n",
    "    \n",
    "    track_info[\"num_sections\"] = num_sections\n",
    "    track_info[\"sections_avg_duration\"] = sections_avg_duration\n",
    "    track_info[\"tempo_changes\"] = tempo_changes\n",
    "    track_info[\"key_changes\"] = key_changes\n",
    "    track_info[\"mode_changes\"] = mode_changes\n",
    "    track_info[\"time_signature_changes\"] = time_signature_changes\n",
    "    track_info[\"dynamics_changes\"] = dynamics_changes\n",
    "    \n",
    "    return track_info\n",
    "\n",
    "\n",
    "def parse_numeric_data(data):\n",
    "    ctx = Context(prec=38)\n",
    "    \n",
    "    for entry in data:\n",
    "        for k, v in entry.items():\n",
    "            if type(v) in (float, int, np.number, np.float64, np.int64):\n",
    "                entry[k] = ctx.create_decimal_from_float(v)\n",
    "            elif isinstance(v, list):\n",
    "                for e in v:\n",
    "                    for k2, v2 in e.items():\n",
    "                        e[k2] = ctx.create_decimal_from_float(v2)"
   ]
  },
  {
   "cell_type": "code",
   "execution_count": 7,
   "id": "738c7c28-3a09-479f-839b-48791c839b9c",
   "metadata": {
    "tags": []
   },
   "outputs": [
    {
     "name": "stderr",
     "output_type": "stream",
     "text": [
      "C:\\Users\\jcf\\AppData\\Local\\Temp\\ipykernel_55992\\4210367172.py:43: RuntimeWarning: divide by zero encountered in scalar divide\n",
      "  if np.abs(past_element[feature] - element[feature]) / element[feature] > 0.05: # 5% change\n",
      "C:\\Users\\jcf\\AppData\\Local\\Temp\\ipykernel_55992\\4210367172.py:43: RuntimeWarning: invalid value encountered in scalar divide\n",
      "  if np.abs(past_element[feature] - element[feature]) / element[feature] > 0.05: # 5% change\n"
     ]
    }
   ],
   "source": [
    "all_tracks = get_saved_tracks()\n",
    "\n",
    "results = []\n",
    "\n",
    "for track in all_tracks:\n",
    "    clean_track = clean_data(track)\n",
    "    clean_track = get_audio_features(clean_track)\n",
    "    clean_track = get_advanced_audio_features(clean_track)\n",
    "    \n",
    "    results.append(clean_track)"
   ]
  },
  {
   "cell_type": "code",
   "execution_count": null,
   "id": "4d70b1d5-8948-4382-ab0c-c780263a0923",
   "metadata": {},
   "outputs": [],
   "source": [
    "parse_numeric_data(results)"
   ]
  },
  {
   "cell_type": "code",
   "execution_count": null,
   "id": "b159d274-414f-4efc-bf0a-8d466267655b",
   "metadata": {
    "tags": []
   },
   "outputs": [],
   "source": [
    "session = boto3.Session(profile_name=\"default\")\n",
    "\n",
    "dynamodb = session.resource(\"dynamodb\", region_name=\"eu-west-1\")\n",
    "table = dynamodb.Table(\"track_info\")\n",
    "\n",
    "with table.batch_writer() as batch:\n",
    "    for item in results:\n",
    "        batch.put_item(Item=item)"
   ]
  },
  {
   "cell_type": "code",
   "execution_count": 18,
   "id": "ba5ae991-3e93-4a1d-931f-615b52333533",
   "metadata": {
    "tags": []
   },
   "outputs": [],
   "source": [
    "# import pickle\n",
    "\n",
    "# with open(\"test_file.pkl\", \"wb\") as file:\n",
    "#     pickle.dump(results, file, protocol=pickle.HIGHEST_PROTOCOL)"
   ]
  },
  {
   "cell_type": "code",
   "execution_count": 55,
   "id": "b7049c2a-ee0d-4d89-aeff-0bef34ea7970",
   "metadata": {
    "tags": []
   },
   "outputs": [
    {
     "data": {
      "text/plain": [
       "{'ResponseMetadata': {'RequestId': 'B88LC5NNBIG2883584TG6NQK43VV4KQNSO5AEMVJF66Q9ASUAAJG',\n",
       "  'HTTPStatusCode': 200,\n",
       "  'HTTPHeaders': {'server': 'Server',\n",
       "   'date': 'Mon, 27 May 2024 12:32:27 GMT',\n",
       "   'content-type': 'application/x-amz-json-1.0',\n",
       "   'content-length': '2',\n",
       "   'connection': 'keep-alive',\n",
       "   'x-amzn-requestid': 'B88LC5NNBIG2883584TG6NQK43VV4KQNSO5AEMVJF66Q9ASUAAJG',\n",
       "   'x-amz-crc32': '2745614147'},\n",
       "  'RetryAttempts': 0}}"
      ]
     },
     "execution_count": 55,
     "metadata": {},
     "output_type": "execute_result"
    }
   ],
   "source": [
    "# table.put_item(Item=results[0])"
   ]
  },
  {
   "cell_type": "code",
   "execution_count": null,
   "id": "e5bf65e6-d827-43ae-9e4f-4c551911b108",
   "metadata": {},
   "outputs": [],
   "source": []
  },
  {
   "cell_type": "code",
   "execution_count": 56,
   "id": "adb7a72e-2f44-4aa0-a84d-16b9996cf72b",
   "metadata": {
    "tags": []
   },
   "outputs": [
    {
     "data": {
      "text/plain": [
       "{'Parameter': {'Name': 'SPOTIFY_CLIENT_SECRET',\n",
       "  'Type': 'SecureString',\n",
       "  'Value': 'b4b4adad93d2427b9c22b3c0b8eead3b',\n",
       "  'Version': 1,\n",
       "  'LastModifiedDate': datetime.datetime(2024, 5, 27, 14, 51, 20, 960000, tzinfo=tzlocal()),\n",
       "  'ARN': 'arn:aws:ssm:eu-west-1:804206532268:parameter/SPOTIFY_CLIENT_SECRET',\n",
       "  'DataType': 'text'},\n",
       " 'ResponseMetadata': {'RequestId': '1d44d69b-005c-4bde-8cb3-532cc78df930',\n",
       "  'HTTPStatusCode': 200,\n",
       "  'HTTPHeaders': {'server': 'Server',\n",
       "   'date': 'Mon, 27 May 2024 12:52:31 GMT',\n",
       "   'content-type': 'application/x-amz-json-1.1',\n",
       "   'content-length': '251',\n",
       "   'connection': 'keep-alive',\n",
       "   'x-amzn-requestid': '1d44d69b-005c-4bde-8cb3-532cc78df930'},\n",
       "  'RetryAttempts': 0}}"
      ]
     },
     "execution_count": 56,
     "metadata": {},
     "output_type": "execute_result"
    }
   ],
   "source": [
    "ssm = boto3.client(\"ssm\", region_name=\"eu-west-1\")\n",
    "parameter = ssm.get_parameter(Name=\"SPOTIFY_CLIENT_SECRET\", WithDecryption=True)\n",
    "parameter[\"Parameter\"][\"Value\"]"
   ]
  }
 ],
 "metadata": {
  "kernelspec": {
   "display_name": "Python 3 (ipykernel)",
   "language": "python",
   "name": "python3"
  },
  "language_info": {
   "codemirror_mode": {
    "name": "ipython",
    "version": 3
   },
   "file_extension": ".py",
   "mimetype": "text/x-python",
   "name": "python",
   "nbconvert_exporter": "python",
   "pygments_lexer": "ipython3",
   "version": "3.11.3"
  }
 },
 "nbformat": 4,
 "nbformat_minor": 5
}
