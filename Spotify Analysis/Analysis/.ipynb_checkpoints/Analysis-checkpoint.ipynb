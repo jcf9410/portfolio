{
 "cells": [
  {
   "cell_type": "code",
   "execution_count": 4,
   "id": "4d0c91b6-add7-4732-bd4f-c743c75f8edd",
   "metadata": {},
   "outputs": [],
   "source": [
    "import pandas as pd\n",
    "import numpy as np\n",
    "\n",
    "import plotly.express as px\n",
    "import boto3"
   ]
  },
  {
   "cell_type": "code",
   "execution_count": 2,
   "id": "df26af48-b6ab-4bb2-acdd-aa5ab3669567",
   "metadata": {},
   "outputs": [],
   "source": [
    "def read_full_table(table_name):\n",
    "    session = boto3.Session(profile_name=\"default\")\n",
    "    dynamodb = session.resource(\"dynamodb\", region_name=\"eu-west-1\")\n",
    "    table = dynamodb.Table(table_name)\n",
    "    response = table.scan()\n",
    "    data = response[\"Items\"]\n",
    "\n",
    "    # Handle pagination\n",
    "    while \"LastEvaluatedKey\" in response:\n",
    "        response = table.scan(ExclusiveStartKey=response[\"LastEvaluatedKey\"])\n",
    "        data.extend(response[\"Items\"])\n",
    "        \n",
    "    return pd.DataFrame(data)"
   ]
  },
  {
   "cell_type": "code",
   "execution_count": 6,
   "id": "8de95d3e-24da-4284-9cac-8c038d5e26a2",
   "metadata": {},
   "outputs": [],
   "source": [
    "# query dynamodb\n",
    "\n",
    "top_artists = read_full_table(\"top_artists\")\n",
    "recently_played = read_full_table(\"recently_played\")\n",
    "track_info = read_full_table(\"track_info\")"
   ]
  },
  {
   "cell_type": "code",
   "execution_count": null,
   "id": "c1dde62b-930d-4e90-b668-e5355d4507a6",
   "metadata": {
    "tags": []
   },
   "outputs": [],
   "source": []
  },
  {
   "cell_type": "code",
   "execution_count": null,
   "id": "c9596315-6a0e-4696-95c4-7e65e1672bb1",
   "metadata": {},
   "outputs": [],
   "source": []
  },
  {
   "cell_type": "code",
   "execution_count": null,
   "id": "e081db85-2fa1-46ed-9078-d1e684756b04",
   "metadata": {},
   "outputs": [],
   "source": []
  },
  {
   "cell_type": "markdown",
   "id": "3e8cb26a-83c3-45f0-b6b0-7ab1e777f6f2",
   "metadata": {
    "tags": []
   },
   "source": [
    "# do analysis (numerical and plots)\n",
    "[\"danceability\", \"energy\", \"key\", \"loudness\", \"mode\", \"speechiness\", \"acousticness\",\n",
    "                        \"instrumentalness\", \"liveness\", \"valence\", \"tempo\"]\n",
    "    \"artist\": artist,\n",
    "    \"duration\": duration,\n",
    "    \"explicit\": explicit,\n",
    "    \"track_name\": name,\n",
    "    \"popularity\": popularity\n",
    "\n",
    "    track_info[\"num_sections\"] = num_sections\n",
    "    track_info[\"sections_avg_duration\"] = sections_avg_duration\n",
    "    track_info[\"tempo_changes\"] = tempo_changes\n",
    "    track_info[\"key_changes\"] = key_changes\n",
    "    track_info[\"mode_changes\"] = mode_changes\n",
    "    track_info[\"time_signature_changes\"] = time_signature_changes\n",
    "    track_info[\"dynamics_changes\"] = dynamics_changes\n",
    "\n",
    "# show top artists and recenelty played in table\n",
    "\n",
    "# plots: \n",
    "    - histograma features canciones\n",
    "    - correlaciones entre algunas features?\n",
    "    - \n"
   ]
  },
  {
   "cell_type": "code",
   "execution_count": null,
   "id": "3609eaa4-d148-4434-bb92-1ff257fc8626",
   "metadata": {},
   "outputs": [],
   "source": [
    "# save results to csv\n",
    "# save html with numerical and plotly plots \n",
    "\n",
    "top_artists.to_csv(\"top_artists.csv\")\n",
    "recently_played.to_csv(\"recently_played.csv\")"
   ]
  },
  {
   "cell_type": "code",
   "execution_count": null,
   "id": "48a81dd5-c652-4313-a78f-b9aba3cace22",
   "metadata": {},
   "outputs": [],
   "source": []
  }
 ],
 "metadata": {
  "kernelspec": {
   "display_name": "Python 3 (ipykernel)",
   "language": "python",
   "name": "python3"
  },
  "language_info": {
   "codemirror_mode": {
    "name": "ipython",
    "version": 3
   },
   "file_extension": ".py",
   "mimetype": "text/x-python",
   "name": "python",
   "nbconvert_exporter": "python",
   "pygments_lexer": "ipython3",
   "version": "3.11.3"
  }
 },
 "nbformat": 4,
 "nbformat_minor": 5
}
