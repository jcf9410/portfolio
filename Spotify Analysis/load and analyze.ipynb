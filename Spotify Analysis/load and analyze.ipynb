{
 "cells": [
  {
   "cell_type": "code",
   "execution_count": null,
   "id": "4d0c91b6-add7-4732-bd4f-c743c75f8edd",
   "metadata": {},
   "outputs": [],
   "source": [
    "import pandas as pd\n",
    "import numpy as np\n",
    "\n",
    "import plotly.express as px\n",
    "import boto3"
   ]
  },
  {
   "cell_type": "code",
   "execution_count": null,
   "id": "8de95d3e-24da-4284-9cac-8c038d5e26a2",
   "metadata": {},
   "outputs": [],
   "source": [
    "# query dynamodb"
   ]
  },
  {
   "cell_type": "markdown",
   "id": "3e8cb26a-83c3-45f0-b6b0-7ab1e777f6f2",
   "metadata": {},
   "source": [
    "# do analysis (numerical and plots)\n",
    "[\"danceability\", \"energy\", \"key\", \"loudness\", \"mode\", \"speechiness\", \"acousticness\",\n",
    "                        \"instrumentalness\", \"liveness\", \"valence\", \"tempo\"]\n",
    "                                \"artist\": artist,\n",
    "        \"duration\": duration,\n",
    "        \"explicit\": explicit,\n",
    "        \"track_name\": name,\n",
    "        \"popularity\": popularity\n",
    "        \n",
    "    track_info[\"num_sections\"] = num_sections\n",
    "    track_info[\"sections_avg_duration\"] = sections_avg_duration\n",
    "    track_info[\"tempo_changes\"] = tempo_changes\n",
    "    track_info[\"key_changes\"] = key_changes\n",
    "    track_info[\"mode_changes\"] = mode_changes\n",
    "    track_info[\"time_signature_changes\"] = time_signature_changes\n",
    "    track_info[\"dynamics_changes\"] = dynamics_changes\n",
    "\n",
    "# show top artists and recenelty played in table\n",
    "\n",
    "# plots: \n",
    "    - histograma features canciones\n",
    "    - correlaciones entre algunas features?\n",
    "    -\n"
   ]
  },
  {
   "cell_type": "code",
   "execution_count": null,
   "id": "3609eaa4-d148-4434-bb92-1ff257fc8626",
   "metadata": {},
   "outputs": [],
   "source": [
    "# save results to dynamodb for use in tableau (?)\n",
    "# save html with numerical and plotly plots "
   ]
  },
  {
   "cell_type": "code",
   "execution_count": null,
   "id": "48a81dd5-c652-4313-a78f-b9aba3cace22",
   "metadata": {},
   "outputs": [],
   "source": []
  }
 ],
 "metadata": {
  "kernelspec": {
   "display_name": "Python 3 (ipykernel)",
   "language": "python",
   "name": "python3"
  },
  "language_info": {
   "codemirror_mode": {
    "name": "ipython",
    "version": 3
   },
   "file_extension": ".py",
   "mimetype": "text/x-python",
   "name": "python",
   "nbconvert_exporter": "python",
   "pygments_lexer": "ipython3",
   "version": "3.11.3"
  }
 },
 "nbformat": 4,
 "nbformat_minor": 5
}
